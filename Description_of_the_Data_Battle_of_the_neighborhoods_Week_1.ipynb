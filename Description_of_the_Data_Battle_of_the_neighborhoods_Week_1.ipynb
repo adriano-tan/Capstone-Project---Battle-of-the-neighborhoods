{
  "nbformat": 4,
  "nbformat_minor": 0,
  "metadata": {
    "colab": {
      "name": "Description of the Data - Battle of the neighborhoods Week 1.ipynb",
      "provenance": [],
      "collapsed_sections": []
    },
    "kernelspec": {
      "name": "python3",
      "display_name": "Python 3"
    }
  },
  "cells": [
    {
      "cell_type": "markdown",
      "metadata": {
        "id": "BHzQKa-yS7JJ",
        "colab_type": "text"
      },
      "source": [
        "2.\tA description of the data and how it will be used to solve the problem. (15 marks)\n",
        "\n",
        "\n",
        "> I intend to obtain data from the following sites to build up an understanding of the various boroughs outside the main city centre of London. And from which find public amenities, transport infrastructure and other complimenting F&B establishments that will allow for a unique ecosystem to be setup.\n",
        "\n",
        "\n",
        "*Sources of data*\n",
        "*   Wikipedia - https://en.wikipedia.org/wiki/List_of_London_boroughs\n",
        "*   Geospatial information available from FourSquare\n",
        "\n",
        "\n",
        "> Through web scrapping, I intend to build a data frame of the London Boroughs, Area, and Population and through manipulating the data frame, through filtering the various Boroughs, further isolate suitable candidates for a deeper analysis.\n",
        "\n",
        "\n",
        "\n",
        "> Next, using foursquare to obtain information on the most popular places in these selected locations\n",
        "\n",
        "\n",
        "> Create a Data Visualisation and Statistical Analysis via Clustering to aid in the selection of a perfect Borough to further focus into. At this point I will be pulling up the relevant Foursquare information for the selected Boroughs to determine their existing mix of amenities to aid in the final decision making. \n"
      ]
    }
  ]
}
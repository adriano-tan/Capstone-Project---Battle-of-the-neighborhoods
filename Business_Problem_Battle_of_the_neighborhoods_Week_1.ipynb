{
  "nbformat": 4,
  "nbformat_minor": 0,
  "metadata": {
    "colab": {
      "name": "Business Problem - Battle of the neighborhoods Week 1.ipynb",
      "provenance": [],
      "collapsed_sections": []
    },
    "kernelspec": {
      "name": "python3",
      "display_name": "Python 3"
    }
  },
  "cells": [
    {
      "cell_type": "markdown",
      "metadata": {
        "id": "8XWPwACJSvfM",
        "colab_type": "text"
      },
      "source": [
        "**For this week, you will required to submit the following:**\n",
        "1. A description of the problem and a discussion of the background. (15 marks)\n",
        "\n",
        "> A group of young F&B entrepreneurs are looking for a new location to invest in an omakase restaurant serving fusion food. However, as London is a very expensive location for any budding resturanteur, and finding the right location to have your first restaurant could dictate how you balance your cash flow along with your human traffic flow. Too expensive a location – your rentals will cut too deeply into your operating budget. On the flipside, if the location is not suitable, without enough human traffic, there is no positive cash flow to sustain the business.\n",
        "\n",
        "\n"
      ]
    }
  ]
}
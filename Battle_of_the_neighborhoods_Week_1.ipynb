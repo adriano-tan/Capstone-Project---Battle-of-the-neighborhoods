{
  "nbformat": 4,
  "nbformat_minor": 0,
  "metadata": {
    "colab": {
      "name": "Battle of the neighborhoods Week 1.ipynb",
      "provenance": [],
      "collapsed_sections": []
    },
    "kernelspec": {
      "name": "python3",
      "display_name": "Python 3"
    }
  },
  "cells": [
    {
      "cell_type": "markdown",
      "metadata": {
        "id": "8XWPwACJSvfM",
        "colab_type": "text"
      },
      "source": [
        "**For this week, you will required to submit the following:**\n",
        "1. A description of the problem and a discussion of the background. (15 marks)\n",
        "\n",
        "> A group of young F&B entrepreneurs are looking for a new location to invest in an omakase restaurant serving fusion food. However, as London is a very expensive location for any budding resturanteur, and finding the right location to have your first restaurant could dictate how you balance your cash flow along with your human traffic flow. Too expensive a location – your rentals will cut too deeply into your operating budget. On the flipside, if the location is not suitable, without enough human traffic, there is no positive cash flow to sustain the business.\n",
        "\n",
        "\n"
      ]
    },
    {
      "cell_type": "markdown",
      "metadata": {
        "id": "BHzQKa-yS7JJ",
        "colab_type": "text"
      },
      "source": [
        "2.\tA description of the data and how it will be used to solve the problem. (15 marks)\n",
        "\n",
        "\n",
        "> I intend to obtain data from the following sites to build up an understanding of the various boroughs outside the main city centre of London. And from which find public amenities, transport infrastructure and other complimenting F&B establishments that will allow for a unique ecosystem to be setup.\n",
        "\n",
        "\n",
        "*Sources of data*\n",
        "*   Wikipedia - https://en.wikipedia.org/wiki/List_of_London_boroughs\n",
        "*   Geospatial information available from FourSquare\n",
        "\n",
        "\n",
        "> Through web scrapping, I intend to build a data frame of the London Boroughs, Area, and Population and through manipulating the data frame, through filtering the various Boroughs, further isolate suitable candidates for a deeper analysis.\n",
        "\n",
        "\n",
        "\n",
        "> Next, using foursquare to obtain information on the most popular places in these selected locations\n",
        "\n",
        "\n",
        "> Create a Data Visualisation and Statistical Analysis via Clustering to aid in the selection of a perfect Borough to further focus into. At this point I will be pulling up the relevant Foursquare information for the selected Boroughs to determine their existing mix of amenities to aid in the final decision making. \n"
      ]
    }
  ]
}